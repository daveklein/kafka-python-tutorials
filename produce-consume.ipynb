{
 "cells": [
  {
   "cell_type": "code",
   "execution_count": null,
   "id": "d0787557-40b8-4836-a773-156ec811820c",
   "metadata": {},
   "outputs": [],
   "source": [
    "%%bash\n",
    "echo \"---\n",
    "version: '2'\n",
    "\n",
    "services:\n",
    "  zookeeper:\n",
    "    image: confluentinc/cp-zookeeper:7.1.0\n",
    "    hostname: zookeeper\n",
    "    container_name: zookeeper\n",
    "    ports:\n",
    "      - \\\"2181:2181\\\"\n",
    "    environment:\n",
    "      ZOOKEEPER_CLIENT_PORT: 2181\n",
    "      ZOOKEEPER_TICK_TIME: 2000\n",
    "\n",
    "  broker:\n",
    "    image: confluentinc/cp-kafka:7.1.0\n",
    "    hostname: broker\n",
    "    container_name: broker\n",
    "    depends_on:\n",
    "      - zookeeper\n",
    "    ports:\n",
    "      - \\\"29092:29092\\\"\n",
    "    environment:\n",
    "      KAFKA_BROKER_ID: 1\n",
    "      KAFKA_ZOOKEEPER_CONNECT: 'zookeeper:2181'\n",
    "      KAFKA_LISTENER_SECURITY_PROTOCOL_MAP: PLAINTEXT:PLAINTEXT,PLAINTEXT_HOST:PLAINTEXT\n",
    "      KAFKA_ADVERTISED_LISTENERS: PLAINTEXT://broker:9092,PLAINTEXT_HOST://localhost:29092\n",
    "      KAFKA_OFFSETS_TOPIC_REPLICATION_FACTOR: 1\n",
    "      KAFKA_GROUP_INITIAL_REBALANCE_DELAY_MS: 0\n",
    "\n",
    "  schema-registry:\n",
    "    image: confluentinc/cp-schema-registry:7.1.0\n",
    "    hostname: schema-registry\n",
    "    container_name: schema-registry\n",
    "    depends_on:\n",
    "      - broker\n",
    "    ports:\n",
    "      - \\\"8081:8081\\\"\n",
    "    environment:\n",
    "      SCHEMA_REGISTRY_HOST_NAME: schema-registry\n",
    "      SCHEMA_REGISTRY_KAFKASTORE_BOOTSTRAP_SERVERS: 'broker:9092'\n",
    "      SCHEMA_REGISTRY_LOG4J_ROOT_LOGLEVEL: WARN\" > docker-compose.yml"
   ]
  },
  {
   "cell_type": "code",
   "execution_count": null,
   "id": "e2fd54be-39b3-4ccd-966a-37aeb8c6b498",
   "metadata": {},
   "outputs": [],
   "source": [
    "%%bash\n",
    "docker-compose up -d"
   ]
  },
  {
   "cell_type": "code",
   "execution_count": null,
   "id": "00e9943c-27ab-4456-9be1-fc76c4e4a7f4",
   "metadata": {},
   "outputs": [],
   "source": [
    "%pip install confluent-kafka"
   ]
  },
  {
   "cell_type": "code",
   "execution_count": null,
   "id": "3b858882-f868-44fe-9507-58e1f933aacd",
   "metadata": {},
   "outputs": [],
   "source": [
    "from confluent_kafka import Producer"
   ]
  },
  {
   "cell_type": "code",
   "execution_count": null,
   "id": "e900ac9d-c877-4b54-b716-509472fba7b2",
   "metadata": {},
   "outputs": [],
   "source": [
    "config = {\n",
    "          \"bootstrap.servers\":\"127.0.0.1:29092\",\n",
    "          \"auto.offset.reset\":\"earliest\",\n",
    "          \"group.id\":\"kafka-tutorial\"\n",
    "         }"
   ]
  },
  {
   "cell_type": "code",
   "execution_count": null,
   "id": "3499b6c9-c307-48e2-b5ee-c800b781da93",
   "metadata": {},
   "outputs": [],
   "source": [
    "producer = Producer(config)"
   ]
  },
  {
   "cell_type": "code",
   "execution_count": null,
   "id": "c6567467-80c5-46b9-98fd-feddc83b25ef",
   "metadata": {},
   "outputs": [],
   "source": [
    "producer.produce(\"tutorial\", key=\"a\", value=\"Hello world!\")\n",
    "producer.produce(\"tutorial\", key=\"a\", value=\"Hello again!\")\n",
    "producer.produce(\"tutorial\", key=\"a\", value=\"Goodbye!\")\n"
   ]
  },
  {
   "cell_type": "code",
   "execution_count": null,
   "id": "2144bf41-94c2-47d1-8c4f-83b7db62ccc2",
   "metadata": {},
   "outputs": [],
   "source": [
    "from confluent_kafka import Consumer"
   ]
  },
  {
   "cell_type": "code",
   "execution_count": null,
   "id": "8ffcb1b3-ea0b-43c4-8c8c-eb5388193e74",
   "metadata": {},
   "outputs": [],
   "source": [
    "consumer = Consumer(config)\n",
    "consumer.subscribe([\"tutorial\"])\n",
    "for i in range(5):\n",
    "    evt = consumer.poll(1.0)\n",
    "    if evt is None:\n",
    "        pass\n",
    "    else:\n",
    "        print(evt.value())"
   ]
  },
  {
   "cell_type": "code",
   "execution_count": null,
   "id": "1d1e0dc1-9762-41c8-9e0c-1b93ece89ff7",
   "metadata": {},
   "outputs": [],
   "source": []
  }
 ],
 "metadata": {
  "kernelspec": {
   "display_name": "Python 3 (ipykernel)",
   "language": "python",
   "name": "python3"
  },
  "language_info": {
   "codemirror_mode": {
    "name": "ipython",
    "version": 3
   },
   "file_extension": ".py",
   "mimetype": "text/x-python",
   "name": "python",
   "nbconvert_exporter": "python",
   "pygments_lexer": "ipython3",
   "version": "3.9.7"
  }
 },
 "nbformat": 4,
 "nbformat_minor": 5
}
